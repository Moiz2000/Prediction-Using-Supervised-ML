{
 "cells": [
  {
   "cell_type": "markdown",
   "id": "fd1b2c78",
   "metadata": {},
   "source": [
    "# Name: Moiz Fakhruddin\n",
    "\n",
    "## Email: moiz.fakhruddin2000@gmail.com"
   ]
  },
  {
   "cell_type": "markdown",
   "id": "5dd2d56c",
   "metadata": {},
   "source": [
    "# Simple Linear Regression"
   ]
  },
  {
   "cell_type": "markdown",
   "id": "e507163e",
   "metadata": {},
   "source": [
    "### Task 1-- Prediction Using Supervised Machine Learning"
   ]
  },
  {
   "cell_type": "markdown",
   "id": "85021c87",
   "metadata": {},
   "source": [
    "In This task we have to predict the perccentage of an student based on its no of study hours."
   ]
  },
  {
   "cell_type": "markdown",
   "id": "fe36c8af",
   "metadata": {},
   "source": [
    "#### Importing all needed packages for this task "
   ]
  },
  {
   "cell_type": "code",
   "execution_count": 1,
   "id": "f4eb852d",
   "metadata": {},
   "outputs": [],
   "source": [
    "#packages\n",
    "import pandas as pd\n",
    "import numpy as np\n",
    "import matplotlib.pyplot as plt\n",
    "%matplotlib inline"
   ]
  },
  {
   "cell_type": "code",
   "execution_count": 2,
   "id": "75eb5a29",
   "metadata": {},
   "outputs": [
    {
     "name": "stdout",
     "output_type": "stream",
     "text": [
      "Data imported successfully\n"
     ]
    },
    {
     "data": {
      "text/html": [
       "<div>\n",
       "<style scoped>\n",
       "    .dataframe tbody tr th:only-of-type {\n",
       "        vertical-align: middle;\n",
       "    }\n",
       "\n",
       "    .dataframe tbody tr th {\n",
       "        vertical-align: top;\n",
       "    }\n",
       "\n",
       "    .dataframe thead th {\n",
       "        text-align: right;\n",
       "    }\n",
       "</style>\n",
       "<table border=\"1\" class=\"dataframe\">\n",
       "  <thead>\n",
       "    <tr style=\"text-align: right;\">\n",
       "      <th></th>\n",
       "      <th>Hours</th>\n",
       "      <th>Scores</th>\n",
       "    </tr>\n",
       "  </thead>\n",
       "  <tbody>\n",
       "    <tr>\n",
       "      <th>0</th>\n",
       "      <td>2.5</td>\n",
       "      <td>21</td>\n",
       "    </tr>\n",
       "    <tr>\n",
       "      <th>1</th>\n",
       "      <td>5.1</td>\n",
       "      <td>47</td>\n",
       "    </tr>\n",
       "    <tr>\n",
       "      <th>2</th>\n",
       "      <td>3.2</td>\n",
       "      <td>27</td>\n",
       "    </tr>\n",
       "    <tr>\n",
       "      <th>3</th>\n",
       "      <td>8.5</td>\n",
       "      <td>75</td>\n",
       "    </tr>\n",
       "    <tr>\n",
       "      <th>4</th>\n",
       "      <td>3.5</td>\n",
       "      <td>30</td>\n",
       "    </tr>\n",
       "  </tbody>\n",
       "</table>\n",
       "</div>"
      ],
      "text/plain": [
       "   Hours  Scores\n",
       "0    2.5      21\n",
       "1    5.1      47\n",
       "2    3.2      27\n",
       "3    8.5      75\n",
       "4    3.5      30"
      ]
     },
     "execution_count": 2,
     "metadata": {},
     "output_type": "execute_result"
    }
   ],
   "source": [
    "#getting dataset\n",
    "\n",
    "url = 'https://raw.githubusercontent.com/AdiPersonalWorks/Random/master/student_scores%20-%20student_scores.csv'\n",
    "student_data = pd.read_csv(url)\n",
    "\n",
    "print('Data imported successfully')\n",
    "student_data.head(5)"
   ]
  },
  {
   "cell_type": "markdown",
   "id": "96d213ac",
   "metadata": {},
   "source": [
    "##### Now, let's plot No of Hours against the Scores, to see how linear their relationship is:"
   ]
  },
  {
   "cell_type": "code",
   "execution_count": 3,
   "id": "83c7dfa9",
   "metadata": {},
   "outputs": [
    {
     "data": {
      "image/png": "[encoded data removed]",
      "text/plain": [
       "<Figure size 432x288 with 1 Axes>"
      ]
     },
     "metadata": {
      "needs_background": "light"
     },
     "output_type": "display_data"
    }
   ],
   "source": [
    "plt.scatter(student_data.Hours, student_data.Scores,  color='blue')\n",
    "plt.xlabel(\"No of Hours\")\n",
    "plt.ylabel(\"Scores In Percentage\")\n",
    "plt.show()"
   ]
  },
  {
   "cell_type": "markdown",
   "id": "af1a5875",
   "metadata": {},
   "source": [
    "###### From the above graph we can clearly see that there is a positive linear relationship between the two variable i.e Hours and Scores."
   ]
  },
  {
   "cell_type": "markdown",
   "id": "0129eec7",
   "metadata": {},
   "source": [
    "Which means if a student spent more time on its  studies he is ikely to get higher percentage in his result."
   ]
  },
  {
   "cell_type": "markdown",
   "id": "ea1b5a0c",
   "metadata": {},
   "source": [
    "##### Creating train and test dataset"
   ]
  },
  {
   "cell_type": "markdown",
   "id": "1127e881",
   "metadata": {},
   "source": [
    "Train/Test Split involves splitting the dataset into training and testing sets that are mutually exclusive. After which, you train with the training set and test with the testing set. This will provide a more accurate evaluation on out-of-sample accuracy because the testing dataset is not part of the dataset that have been used to train the model. Therefore, it gives us a better understanding of how well our model generalizes on new data.\n",
    "\n",
    "This means that we know the outcome of each data point in the testing dataset, making it great to test with! Since this data has not been used to train the model, the model has no knowledge of the outcome of these data points. So, in essence, it is truly an out-of-sample testing.\n",
    "\n",
    "Let's split our dataset into train and test sets. 80% of the entire dataset will be used for training and 20% for testing. We create a mask to select random rows using np.random.rand() function:"
   ]
  },
  {
   "cell_type": "code",
   "execution_count": 4,
   "id": "ef1576dd",
   "metadata": {},
   "outputs": [],
   "source": [
    "msk = np.random.rand(len(student_data)) < 0.8\n",
    "train = student_data[msk]\n",
    "test = student_data[~msk]"
   ]
  },
  {
   "cell_type": "markdown",
   "id": "e21413db",
   "metadata": {},
   "source": [
    "### Creating simple Regression Model"
   ]
  },
  {
   "cell_type": "code",
   "execution_count": 5,
   "id": "342889dc",
   "metadata": {},
   "outputs": [
    {
     "name": "stdout",
     "output_type": "stream",
     "text": [
      "Training Complete\n"
     ]
    }
   ],
   "source": [
    "#using scikit-learn\n",
    "from sklearn import linear_model\n",
    "regr = linear_model.LinearRegression()\n",
    "\n",
    "train_x = np.asanyarray(train[['Hours']])\n",
    "train_y = np.asanyarray(train[['Scores']])\n",
    "\n",
    "regr.fit(train_x, train_y)\n",
    "\n",
    "print('Training Complete')"
   ]
  },
  {
   "cell_type": "code",
   "execution_count": 6,
   "id": "e280000a",
   "metadata": {},
   "outputs": [
    {
     "data": {
      "text/plain": [
       "Text(0, 0.5, 'Scores In Percentage')"
      ]
     },
     "execution_count": 6,
     "metadata": {},
     "output_type": "execute_result"
    },
    {
     "data": {
      "image/png": "[encoded data removed]",
      "text/plain": [
       "<Figure size 432x288 with 1 Axes>"
      ]
     },
     "metadata": {
      "needs_background": "light"
     },
     "output_type": "display_data"
    }
   ],
   "source": [
    "plt.scatter(train.Hours, train.Scores,  color='blue')\n",
    "plt.plot(train_x, regr.coef_[0][0]*train_x + regr.intercept_[0], '-r')\n",
    "plt.xlabel(\"No of Hours\")\n",
    "plt.ylabel(\"Scores In Percentage\")"
   ]
  },
  {
   "cell_type": "markdown",
   "id": "159679af",
   "metadata": {},
   "source": [
    "#### Making Predictions"
   ]
  },
  {
   "cell_type": "code",
   "execution_count": 7,
   "id": "197c4195",
   "metadata": {},
   "outputs": [
    {
     "name": "stdout",
     "output_type": "stream",
     "text": [
      "Actual Score\n",
      "[[21]\n",
      " [47]\n",
      " [25]\n",
      " [85]\n",
      " [17]\n",
      " [67]]\n",
      "Predicted Score\n",
      "[[27.67451913]\n",
      " [52.34902018]\n",
      " [29.57255767]\n",
      " [77.02352122]\n",
      " [14.38824934]\n",
      " [61.83921288]]\n"
     ]
    }
   ],
   "source": [
    "test_x = np.asanyarray(test[['Hours']])\n",
    "test_y = np.asanyarray(test[['Scores']])\n",
    "test_y_ = regr.predict(test_x)\n",
    "print(\"Actual Score\")\n",
    "print(test_y)\n",
    "print(\"Predicted Score\")\n",
    "print(test_y_)"
   ]
  },
  {
   "cell_type": "markdown",
   "id": "85b325f1",
   "metadata": {},
   "source": [
    "### Evaluating the Model"
   ]
  },
  {
   "cell_type": "markdown",
   "id": "b4f98308",
   "metadata": {},
   "source": [
    "We compare the actual values and predicted values to calculate the accuracy of a regression model. Evaluation metrics provide a key role in the development of a model, as it provides insight to areas that require improvement.\n",
    "\n",
    "There are different model evaluation metrics, lets use MSE here to calculate the accuracy of our model based on the test set"
   ]
  },
  {
   "cell_type": "code",
   "execution_count": 8,
   "id": "e16f1fe3",
   "metadata": {},
   "outputs": [
    {
     "name": "stdout",
     "output_type": "stream",
     "text": [
      "Mean absolute error: 5.39\n",
      "Residual sum of squares (MSE): 31.86\n",
      "R2-score: 0.95\n"
     ]
    }
   ],
   "source": [
    "from sklearn.metrics import r2_score\n",
    "\n",
    "print(\"Mean absolute error: %.2f\" % np.mean(np.absolute(test_y_ - test_y)))\n",
    "print(\"Residual sum of squares (MSE): %.2f\" % np.mean((test_y_ - test_y) ** 2))\n",
    "print(\"R2-score: %.2f\" % r2_score(test_y , test_y_) )\n"
   ]
  }
 ],
 "metadata": {
  "kernelspec": {
   "display_name": "Python 3",
   "language": "python",
   "name": "python3"
  },
  "language_info": {
   "codemirror_mode": {
    "name": "ipython",
    "version": 3
   },
   "file_extension": ".py",
   "mimetype": "text/x-python",
   "name": "python",
   "nbconvert_exporter": "python",
   "pygments_lexer": "ipython3",
   "version": "3.8.8"
  }
 },
 "nbformat": 4,
 "nbformat_minor": 5
}
